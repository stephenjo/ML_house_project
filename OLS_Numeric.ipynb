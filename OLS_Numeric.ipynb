{
 "cells": [
  {
   "cell_type": "code",
   "execution_count": 9,
   "metadata": {},
   "outputs": [],
   "source": [
    "# This file runs ordinary least squares for all numeric features except \n",
    "# features with heavily missing values; eg PoolQC, Misc Features, Alley, Fence.\n",
    "# Addtionally the output file is for kaggle submissionS"
   ]
  },
  {
   "cell_type": "code",
   "execution_count": null,
   "metadata": {},
   "outputs": [],
   "source": [
    "# Loading libraries\n",
    "import pandas as pd\n",
    "import numpy as np\n",
    "import math\n",
    "from sklearn import linear_model\n",
    "import sklearn.metrics as sklm\n",
    "from sklearn.model_selection import train_test_split\n",
    "\n",
    "ols =  linear_model.LinearRegression()\n"
   ]
  },
  {
   "cell_type": "code",
   "execution_count": 2,
   "metadata": {},
   "outputs": [],
   "source": [
    "#load train and test files\n",
    "\n",
    "train_ = pd.read_csv(r'train_imputed.csv')\n",
    "test_ = pd.read_csv(r'test_imputed.csv')"
   ]
  },
  {
   "cell_type": "code",
   "execution_count": 3,
   "metadata": {},
   "outputs": [],
   "source": [
    "# create variable with all numeric features of train data\n",
    "\n",
    "x_train_num = train_[['LotFrontage', 'LotArea', 'OverallQual', 'OverallCond',\n",
    "       'YearBuilt', 'YearRemodAdd', 'MasVnrArea', 'BsmtFinSF1', 'BsmtFinSF2',\n",
    "       'BsmtUnfSF', 'TotalBsmtSF', 'X1stFlrSF', 'X2ndFlrSF', 'LowQualFinSF',\n",
    "       'GrLivArea', 'BsmtFullBath', 'BsmtHalfBath', 'FullBath', 'HalfBath',\n",
    "       'BedroomAbvGr', 'KitchenAbvGr', 'TotRmsAbvGrd', 'Fireplaces',\n",
    "       'GarageYrBlt', 'GarageCars', 'GarageArea', 'WoodDeckSF', 'OpenPorchSF',\n",
    "       'EnclosedPorch', 'X3SsnPorch', 'ScreenPorch', 'PoolArea', 'MiscVal',\n",
    "       'MoSold', 'YrSold']]"
   ]
  },
  {
   "cell_type": "code",
   "execution_count": 4,
   "metadata": {},
   "outputs": [],
   "source": [
    "# create variable with all numeric features of test data\n",
    "\n",
    "x_test_num = test_[['LotFrontage', 'LotArea', 'OverallQual', 'OverallCond',\n",
    "       'YearBuilt', 'YearRemodAdd', 'MasVnrArea', 'BsmtFinSF1', 'BsmtFinSF2',\n",
    "       'BsmtUnfSF', 'TotalBsmtSF', 'X1stFlrSF', 'X2ndFlrSF', 'LowQualFinSF',\n",
    "       'GrLivArea', 'BsmtFullBath', 'BsmtHalfBath', 'FullBath', 'HalfBath',\n",
    "       'BedroomAbvGr', 'KitchenAbvGr', 'TotRmsAbvGrd', 'Fireplaces',\n",
    "       'GarageYrBlt', 'GarageCars', 'GarageArea', 'WoodDeckSF', 'OpenPorchSF',\n",
    "       'EnclosedPorch', 'X3SsnPorch', 'ScreenPorch', 'PoolArea', 'MiscVal',\n",
    "       'MoSold', 'YrSold']]"
   ]
  },
  {
   "cell_type": "code",
   "execution_count": 5,
   "metadata": {},
   "outputs": [],
   "source": [
    "# specify train target\n",
    "\n",
    "y = train_['SalePrice']\n",
    "y = pd.DataFrame(y)"
   ]
  },
  {
   "cell_type": "code",
   "execution_count": 6,
   "metadata": {},
   "outputs": [],
   "source": [
    "# split train data into train and test\n",
    "\n",
    "x_train, x_test, y_train, y_test = train_test_split(x_train_num, y, random_state=0)"
   ]
  },
  {
   "cell_type": "code",
   "execution_count": 11,
   "metadata": {},
   "outputs": [
    {
     "name": "stdout",
     "output_type": "stream",
     "text": [
      "train RSS: 20.28\n",
      "train R^2: 0.89\n",
      "test RSS: 7.96\n",
      "test R^2: 0.85\n"
     ]
    }
   ],
   "source": [
    "#fit and test training data\n",
    "\n",
    "ols.fit(x_train,np.log(y_train))\n",
    "print('train RSS: %0.2f' % np.sum((np.log(y_train)-ols.predict(x_train))**2))\n",
    "print('train R^2: %0.2f' % ols.score(x_train,np.log(y_train)))\n",
    "\n",
    "ols.fit(x_test,np.log(y_test))\n",
    "print('test RSS: %0.2f' % np.sum((np.log(y_test)-ols.predict(x_test))**2))\n",
    "print('test R^2: %0.2f' % ols.score(x_test,np.log(y_test)))"
   ]
  },
  {
   "cell_type": "code",
   "execution_count": 12,
   "metadata": {},
   "outputs": [
    {
     "name": "stdout",
     "output_type": "stream",
     "text": [
      "Root Mean Square Error train = 0.16193645305260534\n",
      "Root Mean Square Error test = 0.14766539108406931\n"
     ]
    }
   ],
   "source": [
    "y_pred_train=ols.predict(x_train)\n",
    "y_pred_test=ols.predict(x_test)\n",
    "\n",
    "print('Root Mean Square Error train = ' + str(math.sqrt(sklm.mean_squared_error(np.log(y_train), y_pred_train))))\n",
    "print('Root Mean Square Error test = ' + str(math.sqrt(sklm.mean_squared_error(np.log(y_test), y_pred_test))))"
   ]
  },
  {
   "cell_type": "code",
   "execution_count": 16,
   "metadata": {},
   "outputs": [],
   "source": [
    "# concatenate predicted outcome and index, save to csv file\n",
    "y_pred_test=ols.predict(x_test_num)\n",
    "a = np.expm1(y_pred_test)\n",
    "a = a.transpose()\n",
    "np.savetxt(\"foo.csv\", np.dstack((np.arange(1461, (a.size+1+1460)),a))[0],\"%d,%d\",header=\"Id,SalePrice\")"
   ]
  }
 ],
 "metadata": {
  "kernelspec": {
   "display_name": "Python 3",
   "language": "python",
   "name": "python3"
  },
  "language_info": {
   "codemirror_mode": {
    "name": "ipython",
    "version": 3
   },
   "file_extension": ".py",
   "mimetype": "text/x-python",
   "name": "python",
   "nbconvert_exporter": "python",
   "pygments_lexer": "ipython3",
   "version": "3.7.3"
  }
 },
 "nbformat": 4,
 "nbformat_minor": 2
}
